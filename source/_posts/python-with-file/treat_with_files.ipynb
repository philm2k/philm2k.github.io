{
 "cells": [
  {
   "cell_type": "markdown",
   "metadata": {},
   "source": [
    "### 1. glob.glob을 이용하여 파일목록 가져오기"
   ]
  },
  {
   "cell_type": "code",
   "execution_count": 1,
   "metadata": {},
   "outputs": [
    {
     "data": {
      "text/plain": [
       "['D:/HobbyDev/02.python Data Analysis/DataScienceHandbook\\\\00.00-Preface.ipynb',\n",
       " 'D:/HobbyDev/02.python Data Analysis/DataScienceHandbook\\\\01.00-IPython-Beyond-Normal-Python.ipynb',\n",
       " 'D:/HobbyDev/02.python Data Analysis/DataScienceHandbook\\\\01.01-Help-And-Documentation.ipynb',\n",
       " 'D:/HobbyDev/02.python Data Analysis/DataScienceHandbook\\\\01.02-Shell-Keyboard-Shortcuts.ipynb',\n",
       " 'D:/HobbyDev/02.python Data Analysis/DataScienceHandbook\\\\01.03-Magic-Commands.ipynb']"
      ]
     },
     "execution_count": 1,
     "metadata": {},
     "output_type": "execute_result"
    }
   ],
   "source": [
    "from glob import glob\n",
    "lst_files = glob(\"D:/HobbyDev/02.python Data Analysis/DataScienceHandbook/*.ipynb\")\n",
    "lst_files[:5]"
   ]
  },
  {
   "cell_type": "markdown",
   "metadata": {},
   "source": [
    "## 2. getctime을 이용하여 가장 최근에 생성된 파일명 찾기"
   ]
  },
  {
   "cell_type": "code",
   "execution_count": 2,
   "metadata": {},
   "outputs": [
    {
     "data": {
      "text/plain": [
       "'D:/HobbyDev/02.python Data Analysis/DataScienceHandbook\\\\03.12-Performance-Eval-and-Query.ipynb'"
      ]
     },
     "execution_count": 2,
     "metadata": {},
     "output_type": "execute_result"
    }
   ],
   "source": [
    "from os.path import getctime\n",
    "latest_file = max(lst_files, key=getctime)\n",
    "latest_file"
   ]
  },
  {
   "cell_type": "code",
   "execution_count": null,
   "metadata": {},
   "outputs": [],
   "source": []
  }
 ],
 "metadata": {
  "kernelspec": {
   "display_name": "Python 3",
   "language": "python",
   "name": "python3"
  },
  "language_info": {
   "codemirror_mode": {
    "name": "ipython",
    "version": 3
   },
   "file_extension": ".py",
   "mimetype": "text/x-python",
   "name": "python",
   "nbconvert_exporter": "python",
   "pygments_lexer": "ipython3",
   "version": "3.6.4"
  }
 },
 "nbformat": 4,
 "nbformat_minor": 2
}
